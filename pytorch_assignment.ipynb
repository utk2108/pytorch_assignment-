{
  "cells": [
    {
      "cell_type": "markdown",
      "metadata": {
        "id": "6-OUXNOx3CPg"
      },
      "source": [
        "### Utkarsh Vataliya"
      ]
    },
    {
      "cell_type": "code",
      "execution_count": null,
      "metadata": {
        "id": "jv4zRj3u3LtI"
      },
      "outputs": [],
      "source": [
        "import torch\n",
        "from torch import nn\n",
        "from torch.utils.data import DataLoader\n",
        "from torchvision import datasets\n",
        "from torchvision.transforms import ToTensor, Lambda, Compose\n",
        "import matplotlib.pyplot as plt"
      ]
    },
    {
      "cell_type": "code",
      "execution_count": null,
      "metadata": {
        "colab": {
          "base_uri": "https://localhost:8080/"
        },
        "id": "Swc3R2Ki3OSI",
        "outputId": "e506088a-0ce0-4c3c-9e7e-4ae46c853e24"
      },
      "outputs": [
        {
          "name": "stdout",
          "output_type": "stream",
          "text": [
            "Downloading http://fashion-mnist.s3-website.eu-central-1.amazonaws.com/train-images-idx3-ubyte.gz\n",
            "Downloading http://fashion-mnist.s3-website.eu-central-1.amazonaws.com/train-images-idx3-ubyte.gz to data/FashionMNIST/raw/train-images-idx3-ubyte.gz\n"
          ]
        },
        {
          "name": "stderr",
          "output_type": "stream",
          "text": [
            "100%|██████████| 26421880/26421880 [00:02<00:00, 10351651.59it/s]\n"
          ]
        },
        {
          "name": "stdout",
          "output_type": "stream",
          "text": [
            "Extracting data/FashionMNIST/raw/train-images-idx3-ubyte.gz to data/FashionMNIST/raw\n",
            "\n",
            "Downloading http://fashion-mnist.s3-website.eu-central-1.amazonaws.com/train-labels-idx1-ubyte.gz\n",
            "Downloading http://fashion-mnist.s3-website.eu-central-1.amazonaws.com/train-labels-idx1-ubyte.gz to data/FashionMNIST/raw/train-labels-idx1-ubyte.gz\n"
          ]
        },
        {
          "name": "stderr",
          "output_type": "stream",
          "text": [
            "100%|██████████| 29515/29515 [00:00<00:00, 178742.98it/s]\n"
          ]
        },
        {
          "name": "stdout",
          "output_type": "stream",
          "text": [
            "Extracting data/FashionMNIST/raw/train-labels-idx1-ubyte.gz to data/FashionMNIST/raw\n",
            "\n",
            "Downloading http://fashion-mnist.s3-website.eu-central-1.amazonaws.com/t10k-images-idx3-ubyte.gz\n",
            "Downloading http://fashion-mnist.s3-website.eu-central-1.amazonaws.com/t10k-images-idx3-ubyte.gz to data/FashionMNIST/raw/t10k-images-idx3-ubyte.gz\n"
          ]
        },
        {
          "name": "stderr",
          "output_type": "stream",
          "text": [
            "100%|██████████| 4422102/4422102 [00:01<00:00, 3227104.89it/s]\n"
          ]
        },
        {
          "name": "stdout",
          "output_type": "stream",
          "text": [
            "Extracting data/FashionMNIST/raw/t10k-images-idx3-ubyte.gz to data/FashionMNIST/raw\n",
            "\n",
            "Downloading http://fashion-mnist.s3-website.eu-central-1.amazonaws.com/t10k-labels-idx1-ubyte.gz\n",
            "Downloading http://fashion-mnist.s3-website.eu-central-1.amazonaws.com/t10k-labels-idx1-ubyte.gz to data/FashionMNIST/raw/t10k-labels-idx1-ubyte.gz\n"
          ]
        },
        {
          "name": "stderr",
          "output_type": "stream",
          "text": [
            "100%|██████████| 5148/5148 [00:00<00:00, 17385086.14it/s]"
          ]
        },
        {
          "name": "stdout",
          "output_type": "stream",
          "text": [
            "Extracting data/FashionMNIST/raw/t10k-labels-idx1-ubyte.gz to data/FashionMNIST/raw\n",
            "\n"
          ]
        },
        {
          "name": "stderr",
          "output_type": "stream",
          "text": [
            "\n"
          ]
        }
      ],
      "source": [
        "# Download training data from open datasets.\n",
        "training_data = datasets.FashionMNIST(\n",
        "    root=\"data\",\n",
        "    train=True,\n",
        "    download=True,\n",
        "    transform=ToTensor(),\n",
        ")\n",
        "\n",
        "# Download test data from open datasets.\n",
        "test_data = datasets.FashionMNIST(\n",
        "    root=\"data\",\n",
        "    train=False,\n",
        "    download=True,\n",
        "    transform=ToTensor(),\n",
        ")"
      ]
    },
    {
      "cell_type": "code",
      "execution_count": null,
      "metadata": {
        "colab": {
          "base_uri": "https://localhost:8080/"
        },
        "id": "Cd71u_LZ3QMo",
        "outputId": "d649d5fc-2c8b-4f72-d9a9-72169c0ccd21"
      },
      "outputs": [
        {
          "data": {
            "text/plain": [
              "torchvision.datasets.mnist.FashionMNIST"
            ]
          },
          "execution_count": 3,
          "metadata": {},
          "output_type": "execute_result"
        }
      ],
      "source": [
        "type(training_data)"
      ]
    },
    {
      "cell_type": "code",
      "execution_count": null,
      "metadata": {
        "colab": {
          "base_uri": "https://localhost:8080/"
        },
        "id": "_z8xEoct3Taa",
        "outputId": "626e1fc8-4c25-4810-bc39-7d0cef6ca28a"
      },
      "outputs": [
        {
          "name": "stdout",
          "output_type": "stream",
          "text": [
            "Shape of X [N, C, H, W]:  torch.Size([64, 1, 28, 28])\n",
            "Shape of y:  torch.Size([64]) torch.int64\n"
          ]
        }
      ],
      "source": [
        "batch_size = 64\n",
        "\n",
        "# Create data loaders.\n",
        "train_dataloader = DataLoader(training_data, batch_size=batch_size)\n",
        "test_dataloader = DataLoader(test_data, batch_size=batch_size)\n",
        "\n",
        "for X, y in test_dataloader:\n",
        "    print(\"Shape of X [N, C, H, W]: \", X.shape)\n",
        "    print(\"Shape of y: \", y.shape, y.dtype)\n",
        "    # print(X)\n",
        "    # print(y)\n",
        "    break"
      ]
    },
    {
      "cell_type": "code",
      "execution_count": null,
      "metadata": {
        "colab": {
          "base_uri": "https://localhost:8080/"
        },
        "id": "Fx_2V-C83aUS",
        "outputId": "54ee2abf-0c1c-4dc8-8d38-93ff6bde66bf"
      },
      "outputs": [
        {
          "name": "stdout",
          "output_type": "stream",
          "text": [
            "Using cuda device\n"
          ]
        }
      ],
      "source": [
        "# Get cpu or gpu device for training.\n",
        "device = \"cuda\" if torch.cuda.is_available() else \"cpu\"\n",
        "print(f\"Using {device} device\")"
      ]
    },
    {
      "cell_type": "code",
      "execution_count": null,
      "metadata": {
        "colab": {
          "base_uri": "https://localhost:8080/"
        },
        "id": "ueZJS_-L3VQ4",
        "outputId": "941cc64d-ae4f-40e2-f964-d4dc85114354"
      },
      "outputs": [
        {
          "name": "stdout",
          "output_type": "stream",
          "text": [
            "NeuralNetwork(\n",
            "  (flatten): Flatten(start_dim=1, end_dim=-1)\n",
            "  (linear_relu_stack): Sequential(\n",
            "    (0): Linear(in_features=784, out_features=512, bias=True)\n",
            "    (1): ReLU()\n",
            "    (2): Linear(in_features=512, out_features=512, bias=True)\n",
            "    (3): ReLU()\n",
            "    (4): Linear(in_features=512, out_features=10, bias=True)\n",
            "  )\n",
            ")\n"
          ]
        }
      ],
      "source": [
        "# Define model\n",
        "class NeuralNetwork(nn.Module):\n",
        "    def __init__(self):\n",
        "        super(NeuralNetwork, self).__init__()\n",
        "        self.flatten = nn.Flatten()\n",
        "        self.linear_relu_stack = nn.Sequential(\n",
        "            nn.Linear(28*28, 512),\n",
        "            nn.ReLU(),\n",
        "            nn.Linear(512, 512),\n",
        "            nn.ReLU(),\n",
        "            nn.Linear(512, 10)\n",
        "        )\n",
        "\n",
        "    def forward(self, x):\n",
        "        x = self.flatten(x)\n",
        "        logits = self.linear_relu_stack(x)\n",
        "        return logits\n",
        "\n",
        "model = NeuralNetwork().to(device)\n",
        "print(model)"
      ]
    },
    {
      "cell_type": "code",
      "execution_count": null,
      "metadata": {
        "id": "1SEEk4fz3ey2"
      },
      "outputs": [],
      "source": [
        "loss_fn = nn.CrossEntropyLoss()\n",
        "optimizer = torch.optim.SGD(model.parameters(), lr=1e-3)"
      ]
    },
    {
      "cell_type": "code",
      "execution_count": null,
      "metadata": {
        "id": "tryz3wtG3ewp"
      },
      "outputs": [],
      "source": [
        "def train(dataloader, model, loss_fn, optimizer):\n",
        "    size = len(dataloader.dataset)\n",
        "    model.train()\n",
        "    for batch, (X, y) in enumerate(dataloader):\n",
        "        X, y = X.to(device), y.to(device)\n",
        "\n",
        "        # Compute prediction error\n",
        "        pred = model(X)\n",
        "        loss = loss_fn(pred, y)\n",
        "\n",
        "        # Backpropagation\n",
        "        optimizer.zero_grad()\n",
        "        loss.backward()\n",
        "        optimizer.step()\n",
        "\n",
        "        if batch % 100 == 0:\n",
        "            loss, current = loss.item(), batch * len(X)\n",
        "            print(f\"loss: {loss:>7f}  [{current:>5d}/{size:>5d}]\")"
      ]
    },
    {
      "cell_type": "code",
      "execution_count": null,
      "metadata": {
        "id": "Z1C_N3if3j-j"
      },
      "outputs": [],
      "source": [
        "def test(dataloader, model, loss_fn):\n",
        "    size = len(dataloader.dataset)\n",
        "    num_batches = len(dataloader)\n",
        "    model.eval()\n",
        "    test_loss, correct = 0, 0\n",
        "    with torch.no_grad():\n",
        "        for X, y in dataloader:\n",
        "            X, y = X.to(device), y.to(device)\n",
        "            pred = model(X)\n",
        "            test_loss += loss_fn(pred, y).item()\n",
        "            correct += (pred.argmax(1) == y).type(torch.float).sum().item()\n",
        "    test_loss /= num_batches\n",
        "    correct /= size\n",
        "    print(f\"Test Error: \\n Accuracy: {(100*correct):>0.1f}%, Avg loss: {test_loss:>8f} \\n\")"
      ]
    },
    {
      "cell_type": "code",
      "execution_count": null,
      "metadata": {
        "colab": {
          "base_uri": "https://localhost:8080/"
        },
        "id": "2UxIUc-Y3mSp",
        "outputId": "e823232c-c4de-467e-c5c4-3dbf30a8aabb"
      },
      "outputs": [
        {
          "name": "stdout",
          "output_type": "stream",
          "text": [
            "Epoch 1\n",
            "-------------------------------\n",
            "loss: 2.300778  [    0/60000]\n",
            "loss: 2.289604  [ 6400/60000]\n",
            "loss: 2.276576  [12800/60000]\n",
            "loss: 2.266565  [19200/60000]\n",
            "loss: 2.266608  [25600/60000]\n",
            "loss: 2.231407  [32000/60000]\n",
            "loss: 2.226147  [38400/60000]\n",
            "loss: 2.196790  [44800/60000]\n",
            "loss: 2.198914  [51200/60000]\n",
            "loss: 2.167548  [57600/60000]\n",
            "Test Error: \n",
            " Accuracy: 47.6%, Avg loss: 2.165167 \n",
            "\n",
            "Epoch 2\n",
            "-------------------------------\n",
            "loss: 2.172875  [    0/60000]\n",
            "loss: 2.168133  [ 6400/60000]\n",
            "loss: 2.119997  [12800/60000]\n",
            "loss: 2.128122  [19200/60000]\n",
            "loss: 2.093954  [25600/60000]\n",
            "loss: 2.030885  [32000/60000]\n",
            "loss: 2.043939  [38400/60000]\n",
            "loss: 1.974351  [44800/60000]\n",
            "loss: 1.991501  [51200/60000]\n",
            "loss: 1.905458  [57600/60000]\n",
            "Test Error: \n",
            " Accuracy: 56.1%, Avg loss: 1.916478 \n",
            "\n",
            "Epoch 3\n",
            "-------------------------------\n",
            "loss: 1.950024  [    0/60000]\n",
            "loss: 1.928711  [ 6400/60000]\n",
            "loss: 1.824412  [12800/60000]\n",
            "loss: 1.846067  [19200/60000]\n",
            "loss: 1.746723  [25600/60000]\n",
            "loss: 1.693962  [32000/60000]\n",
            "loss: 1.700896  [38400/60000]\n",
            "loss: 1.606590  [44800/60000]\n",
            "loss: 1.644321  [51200/60000]\n",
            "loss: 1.515707  [57600/60000]\n",
            "Test Error: \n",
            " Accuracy: 59.2%, Avg loss: 1.545996 \n",
            "\n",
            "Epoch 4\n",
            "-------------------------------\n",
            "loss: 1.614840  [    0/60000]\n",
            "loss: 1.582978  [ 6400/60000]\n",
            "loss: 1.441523  [12800/60000]\n",
            "loss: 1.491940  [19200/60000]\n",
            "loss: 1.373810  [25600/60000]\n",
            "loss: 1.373126  [32000/60000]\n",
            "loss: 1.373998  [38400/60000]\n",
            "loss: 1.298216  [44800/60000]\n",
            "loss: 1.344197  [51200/60000]\n",
            "loss: 1.232309  [57600/60000]\n",
            "Test Error: \n",
            " Accuracy: 62.3%, Avg loss: 1.261357 \n",
            "\n",
            "Epoch 5\n",
            "-------------------------------\n",
            "loss: 1.339039  [    0/60000]\n",
            "loss: 1.324389  [ 6400/60000]\n",
            "loss: 1.164677  [12800/60000]\n",
            "loss: 1.254755  [19200/60000]\n",
            "loss: 1.128627  [25600/60000]\n",
            "loss: 1.163455  [32000/60000]\n",
            "loss: 1.173570  [38400/60000]\n",
            "loss: 1.108306  [44800/60000]\n",
            "loss: 1.159423  [51200/60000]\n",
            "loss: 1.067242  [57600/60000]\n",
            "Test Error: \n",
            " Accuracy: 64.3%, Avg loss: 1.088234 \n",
            "\n",
            "Epoch 6\n",
            "-------------------------------\n",
            "loss: 1.157676  [    0/60000]\n",
            "loss: 1.164312  [ 6400/60000]\n",
            "loss: 0.988899  [12800/60000]\n",
            "loss: 1.111967  [19200/60000]\n",
            "loss: 0.984244  [25600/60000]\n",
            "loss: 1.026698  [32000/60000]\n",
            "loss: 1.052003  [38400/60000]\n",
            "loss: 0.990442  [44800/60000]\n",
            "loss: 1.044762  [51200/60000]\n",
            "loss: 0.964859  [57600/60000]\n",
            "Test Error: \n",
            " Accuracy: 65.6%, Avg loss: 0.979881 \n",
            "\n",
            "Epoch 7\n",
            "-------------------------------\n",
            "loss: 1.036097  [    0/60000]\n",
            "loss: 1.063071  [ 6400/60000]\n",
            "loss: 0.872169  [12800/60000]\n",
            "loss: 1.018970  [19200/60000]\n",
            "loss: 0.896909  [25600/60000]\n",
            "loss: 0.932864  [32000/60000]\n",
            "loss: 0.973293  [38400/60000]\n",
            "loss: 0.914798  [44800/60000]\n",
            "loss: 0.967446  [51200/60000]\n",
            "loss: 0.896757  [57600/60000]\n",
            "Test Error: \n",
            " Accuracy: 66.7%, Avg loss: 0.907336 \n",
            "\n",
            "Epoch 8\n",
            "-------------------------------\n",
            "loss: 0.948931  [    0/60000]\n",
            "loss: 0.993951  [ 6400/60000]\n",
            "loss: 0.789936  [12800/60000]\n",
            "loss: 0.954414  [19200/60000]\n",
            "loss: 0.839912  [25600/60000]\n",
            "loss: 0.865325  [32000/60000]\n",
            "loss: 0.917950  [38400/60000]\n",
            "loss: 0.864325  [44800/60000]\n",
            "loss: 0.912085  [51200/60000]\n",
            "loss: 0.848092  [57600/60000]\n",
            "Test Error: \n",
            " Accuracy: 67.8%, Avg loss: 0.855534 \n",
            "\n",
            "Epoch 9\n",
            "-------------------------------\n",
            "loss: 0.882542  [    0/60000]\n",
            "loss: 0.942855  [ 6400/60000]\n",
            "loss: 0.728639  [12800/60000]\n",
            "loss: 0.907106  [19200/60000]\n",
            "loss: 0.799631  [25600/60000]\n",
            "loss: 0.814911  [32000/60000]\n",
            "loss: 0.875911  [38400/60000]\n",
            "loss: 0.828864  [44800/60000]\n",
            "loss: 0.870483  [51200/60000]\n",
            "loss: 0.811445  [57600/60000]\n",
            "Test Error: \n",
            " Accuracy: 69.3%, Avg loss: 0.816450 \n",
            "\n",
            "Epoch 10\n",
            "-------------------------------\n",
            "loss: 0.829564  [    0/60000]\n",
            "loss: 0.902570  [ 6400/60000]\n",
            "loss: 0.680671  [12800/60000]\n",
            "loss: 0.871081  [19200/60000]\n",
            "loss: 0.769227  [25600/60000]\n",
            "loss: 0.776172  [32000/60000]\n",
            "loss: 0.841904  [38400/60000]\n",
            "loss: 0.802447  [44800/60000]\n",
            "loss: 0.837873  [51200/60000]\n",
            "loss: 0.782304  [57600/60000]\n",
            "Test Error: \n",
            " Accuracy: 70.7%, Avg loss: 0.785419 \n",
            "\n",
            "Done!\n"
          ]
        }
      ],
      "source": [
        "epochs = 10\n",
        "for t in range(epochs):\n",
        "    print(f\"Epoch {t+1}\\n-------------------------------\")\n",
        "    train(train_dataloader, model, loss_fn, optimizer)\n",
        "    test(test_dataloader, model, loss_fn)\n",
        "print(\"Done!\")"
      ]
    },
    {
      "cell_type": "code",
      "execution_count": null,
      "metadata": {
        "colab": {
          "base_uri": "https://localhost:8080/"
        },
        "id": "mqdoWByK3oxh",
        "outputId": "a0f6fbb0-056a-4c63-d80f-2886fa4ae7c7"
      },
      "outputs": [
        {
          "name": "stdout",
          "output_type": "stream",
          "text": [
            "Saved PyTorch Model State to model.pth\n"
          ]
        }
      ],
      "source": [
        "#save model\n",
        "torch.save(model.state_dict(), \"model.pth\")\n",
        "print(\"Saved PyTorch Model State to model.pth\")"
      ]
    },
    {
      "cell_type": "code",
      "execution_count": null,
      "metadata": {
        "colab": {
          "base_uri": "https://localhost:8080/"
        },
        "id": "gB0EWHe24DXZ",
        "outputId": "053135aa-e747-4898-d084-e531d6f2f7b4"
      },
      "outputs": [
        {
          "data": {
            "text/plain": [
              "<All keys matched successfully>"
            ]
          },
          "execution_count": 39,
          "metadata": {},
          "output_type": "execute_result"
        }
      ],
      "source": [
        "#load model\n",
        "model = NeuralNetwork()\n",
        "model.load_state_dict(torch.load(\"model.pth\"))"
      ]
    },
    {
      "cell_type": "code",
      "execution_count": null,
      "metadata": {
        "colab": {
          "base_uri": "https://localhost:8080/"
        },
        "id": "qRHA5ZZP4HEJ",
        "outputId": "0944c103-8cb5-4e09-eae5-66920d486efd"
      },
      "outputs": [
        {
          "name": "stdout",
          "output_type": "stream",
          "text": [
            "Predicted: \"Ankle boot\", Actual: \"Ankle boot\"\n"
          ]
        }
      ],
      "source": [
        "## Prediction\n",
        "\n",
        "classes = [\n",
        "    \"T-shirt/top\",\n",
        "    \"Trouser\",\n",
        "    \"Pullover\",\n",
        "    \"Dress\",\n",
        "    \"Coat\",\n",
        "    \"Sandal\",\n",
        "    \"Shirt\",\n",
        "    \"Sneaker\",\n",
        "    \"Bag\",\n",
        "    \"Ankle boot\",\n",
        "]\n",
        "\n",
        "model.eval()\n",
        "x, y = test_data[0][0], test_data[0][1]\n",
        "with torch.no_grad():\n",
        "    pred = model(x)\n",
        "    predicted, actual = classes[pred[0].argmax(0)], classes[y]\n",
        "    print(f'Predicted: \"{predicted}\", Actual: \"{actual}\"')"
      ]
    }
  ],
  "metadata": {
    "accelerator": "GPU",
    "colab": {
      "provenance": []
    },
    "kernelspec": {
      "display_name": "Python 3",
      "name": "python3"
    },
    "language_info": {
      "name": "python"
    }
  },
  "nbformat": 4,
  "nbformat_minor": 0
}
